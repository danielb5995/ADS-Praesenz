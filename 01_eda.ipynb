{
 "cells": [
  {
   "cell_type": "markdown",
   "id": "8b106325-84ec-4df1-883b-b46eea9f12e5",
   "metadata": {},
   "source": [
    "# Jupyter Notebook - ADS-V Präsenz"
   ]
  },
  {
   "cell_type": "code",
   "execution_count": 18,
   "id": "ff37ad61-1d38-48bc-9cf8-03c807dfcefa",
   "metadata": {},
   "outputs": [],
   "source": [
    "import matplotlib.pyplot as plt\n",
    "import pandas as pd\n",
    "import seaborn as sns\n",
    "import statsmodels.formula.api as smf\n",
    "import sweetviz as sw\n",
    "\n",
    "import os"
   ]
  },
  {
   "cell_type": "code",
   "execution_count": 2,
   "id": "61a517bd-30e6-430e-8b3e-929ca2b1d398",
   "metadata": {},
   "outputs": [],
   "source": [
    "FILENAMEDATA = os.path.join(\"input\", \"research_dataset.csv\")\n",
    "FILENAMEDATAREPORT = os.path.join(\"reports\", \"research_dataset.html\")\n",
    "CREATEREPORT = False"
   ]
  },
  {
   "cell_type": "code",
   "execution_count": 3,
   "id": "c48777ed-0c98-4179-bd3a-35f30829fdbf",
   "metadata": {},
   "outputs": [
    {
     "data": {
      "text/html": [
       "<div>\n",
       "<style scoped>\n",
       "    .dataframe tbody tr th:only-of-type {\n",
       "        vertical-align: middle;\n",
       "    }\n",
       "\n",
       "    .dataframe tbody tr th {\n",
       "        vertical-align: top;\n",
       "    }\n",
       "\n",
       "    .dataframe thead th {\n",
       "        text-align: right;\n",
       "    }\n",
       "</style>\n",
       "<table border=\"1\" class=\"dataframe\">\n",
       "  <thead>\n",
       "    <tr style=\"text-align: right;\">\n",
       "      <th></th>\n",
       "      <th>sales_calls</th>\n",
       "      <th>interactions</th>\n",
       "      <th>economy</th>\n",
       "      <th>last_upgrade</th>\n",
       "      <th>discount</th>\n",
       "      <th>monthly_usage</th>\n",
       "      <th>ad_spend</th>\n",
       "      <th>bugs_reported</th>\n",
       "      <th>did_renew</th>\n",
       "    </tr>\n",
       "  </thead>\n",
       "  <tbody>\n",
       "    <tr>\n",
       "      <th>0</th>\n",
       "      <td>2.0</td>\n",
       "      <td>2.0</td>\n",
       "      <td>0.719054</td>\n",
       "      <td>17.036984</td>\n",
       "      <td>0.283774</td>\n",
       "      <td>0.825265</td>\n",
       "      <td>0.803090</td>\n",
       "      <td>1.0</td>\n",
       "      <td>0</td>\n",
       "    </tr>\n",
       "    <tr>\n",
       "      <th>1</th>\n",
       "      <td>3.0</td>\n",
       "      <td>3.0</td>\n",
       "      <td>0.188017</td>\n",
       "      <td>13.464172</td>\n",
       "      <td>0.059483</td>\n",
       "      <td>0.287509</td>\n",
       "      <td>0.275391</td>\n",
       "      <td>0.0</td>\n",
       "      <td>1</td>\n",
       "    </tr>\n",
       "    <tr>\n",
       "      <th>2</th>\n",
       "      <td>2.0</td>\n",
       "      <td>2.0</td>\n",
       "      <td>0.387437</td>\n",
       "      <td>1.631930</td>\n",
       "      <td>0.167273</td>\n",
       "      <td>0.433489</td>\n",
       "      <td>1.396768</td>\n",
       "      <td>1.0</td>\n",
       "      <td>0</td>\n",
       "    </tr>\n",
       "    <tr>\n",
       "      <th>3</th>\n",
       "      <td>2.0</td>\n",
       "      <td>2.0</td>\n",
       "      <td>0.866165</td>\n",
       "      <td>7.710981</td>\n",
       "      <td>0.330207</td>\n",
       "      <td>0.235349</td>\n",
       "      <td>0.218303</td>\n",
       "      <td>0.0</td>\n",
       "      <td>0</td>\n",
       "    </tr>\n",
       "    <tr>\n",
       "      <th>4</th>\n",
       "      <td>2.0</td>\n",
       "      <td>2.0</td>\n",
       "      <td>0.585444</td>\n",
       "      <td>6.391478</td>\n",
       "      <td>0.299390</td>\n",
       "      <td>0.824211</td>\n",
       "      <td>0.815360</td>\n",
       "      <td>1.0</td>\n",
       "      <td>0</td>\n",
       "    </tr>\n",
       "    <tr>\n",
       "      <th>...</th>\n",
       "      <td>...</td>\n",
       "      <td>...</td>\n",
       "      <td>...</td>\n",
       "      <td>...</td>\n",
       "      <td>...</td>\n",
       "      <td>...</td>\n",
       "      <td>...</td>\n",
       "      <td>...</td>\n",
       "      <td>...</td>\n",
       "    </tr>\n",
       "    <tr>\n",
       "      <th>9995</th>\n",
       "      <td>2.0</td>\n",
       "      <td>3.0</td>\n",
       "      <td>0.715427</td>\n",
       "      <td>10.540743</td>\n",
       "      <td>0.373957</td>\n",
       "      <td>0.373962</td>\n",
       "      <td>0.363134</td>\n",
       "      <td>0.0</td>\n",
       "      <td>0</td>\n",
       "    </tr>\n",
       "    <tr>\n",
       "      <th>9996</th>\n",
       "      <td>2.0</td>\n",
       "      <td>2.0</td>\n",
       "      <td>0.564662</td>\n",
       "      <td>1.878001</td>\n",
       "      <td>0.305935</td>\n",
       "      <td>0.543083</td>\n",
       "      <td>1.521588</td>\n",
       "      <td>0.0</td>\n",
       "      <td>0</td>\n",
       "    </tr>\n",
       "    <tr>\n",
       "      <th>9997</th>\n",
       "      <td>3.0</td>\n",
       "      <td>3.0</td>\n",
       "      <td>0.290156</td>\n",
       "      <td>11.794950</td>\n",
       "      <td>0.376242</td>\n",
       "      <td>0.245795</td>\n",
       "      <td>0.224300</td>\n",
       "      <td>0.0</td>\n",
       "      <td>0</td>\n",
       "    </tr>\n",
       "    <tr>\n",
       "      <th>9998</th>\n",
       "      <td>0.0</td>\n",
       "      <td>1.0</td>\n",
       "      <td>0.989440</td>\n",
       "      <td>12.251466</td>\n",
       "      <td>0.280882</td>\n",
       "      <td>0.271200</td>\n",
       "      <td>0.255873</td>\n",
       "      <td>0.0</td>\n",
       "      <td>0</td>\n",
       "    </tr>\n",
       "    <tr>\n",
       "      <th>9999</th>\n",
       "      <td>3.0</td>\n",
       "      <td>3.0</td>\n",
       "      <td>0.544678</td>\n",
       "      <td>18.743820</td>\n",
       "      <td>0.020770</td>\n",
       "      <td>0.658943</td>\n",
       "      <td>0.596959</td>\n",
       "      <td>1.0</td>\n",
       "      <td>1</td>\n",
       "    </tr>\n",
       "  </tbody>\n",
       "</table>\n",
       "<p>10000 rows × 9 columns</p>\n",
       "</div>"
      ],
      "text/plain": [
       "      sales_calls  interactions   economy  last_upgrade  discount  \\\n",
       "0             2.0           2.0  0.719054     17.036984  0.283774   \n",
       "1             3.0           3.0  0.188017     13.464172  0.059483   \n",
       "2             2.0           2.0  0.387437      1.631930  0.167273   \n",
       "3             2.0           2.0  0.866165      7.710981  0.330207   \n",
       "4             2.0           2.0  0.585444      6.391478  0.299390   \n",
       "...           ...           ...       ...           ...       ...   \n",
       "9995          2.0           3.0  0.715427     10.540743  0.373957   \n",
       "9996          2.0           2.0  0.564662      1.878001  0.305935   \n",
       "9997          3.0           3.0  0.290156     11.794950  0.376242   \n",
       "9998          0.0           1.0  0.989440     12.251466  0.280882   \n",
       "9999          3.0           3.0  0.544678     18.743820  0.020770   \n",
       "\n",
       "      monthly_usage  ad_spend  bugs_reported  did_renew  \n",
       "0          0.825265  0.803090            1.0          0  \n",
       "1          0.287509  0.275391            0.0          1  \n",
       "2          0.433489  1.396768            1.0          0  \n",
       "3          0.235349  0.218303            0.0          0  \n",
       "4          0.824211  0.815360            1.0          0  \n",
       "...             ...       ...            ...        ...  \n",
       "9995       0.373962  0.363134            0.0          0  \n",
       "9996       0.543083  1.521588            0.0          0  \n",
       "9997       0.245795  0.224300            0.0          0  \n",
       "9998       0.271200  0.255873            0.0          0  \n",
       "9999       0.658943  0.596959            1.0          1  \n",
       "\n",
       "[10000 rows x 9 columns]"
      ]
     },
     "execution_count": 3,
     "metadata": {},
     "output_type": "execute_result"
    }
   ],
   "source": [
    "dfData = pd.read_csv(FILENAMEDATA)\n",
    "dfData"
   ]
  },
  {
   "cell_type": "code",
   "execution_count": 4,
   "id": "88122f0c-bf06-4c57-8273-695a9bdc5ed1",
   "metadata": {},
   "outputs": [
    {
     "name": "stdout",
     "output_type": "stream",
     "text": [
      "<class 'pandas.core.frame.DataFrame'>\n",
      "RangeIndex: 10000 entries, 0 to 9999\n",
      "Data columns (total 9 columns):\n",
      " #   Column         Non-Null Count  Dtype  \n",
      "---  ------         --------------  -----  \n",
      " 0   sales_calls    10000 non-null  float64\n",
      " 1   interactions   10000 non-null  float64\n",
      " 2   economy        10000 non-null  float64\n",
      " 3   last_upgrade   10000 non-null  float64\n",
      " 4   discount       10000 non-null  float64\n",
      " 5   monthly_usage  10000 non-null  float64\n",
      " 6   ad_spend       10000 non-null  float64\n",
      " 7   bugs_reported  10000 non-null  float64\n",
      " 8   did_renew      10000 non-null  int64  \n",
      "dtypes: float64(8), int64(1)\n",
      "memory usage: 703.3 KB\n"
     ]
    }
   ],
   "source": [
    "dfData.info()"
   ]
  },
  {
   "cell_type": "code",
   "execution_count": 5,
   "id": "c9d54ea9-9aab-4f3b-b28c-91e791c4518d",
   "metadata": {},
   "outputs": [
    {
     "data": {
      "text/plain": [
       "'\\nsales_calls Anzahl Anrufe SalesTeam\\ninteractions Zusätzliche Interaktionen mit Kunden, wie sales_calls\\neconomy Wirtschaftliche Lage (Hoch = Gut)\\ndiscount Rabatt\\nmonthly_usage Benutzungshäufigkeit (Hoch = viel)\\nad_spend Werbebudget für Kunden\\nbugs_reported Anzahl Fehler gemeldet\\ndid_renew Abo erneuert Ja Nein\\n'"
      ]
     },
     "execution_count": 5,
     "metadata": {},
     "output_type": "execute_result"
    }
   ],
   "source": [
    "\"\"\"\n",
    "sales_calls Anzahl Anrufe SalesTeam\n",
    "interactions Zusätzliche Interaktionen mit Kunden, wie sales_calls\n",
    "economy Wirtschaftliche Lage (Hoch = Gut)\n",
    "last_upgrade Wann wurde zuletzt geupdatet\n",
    "discount Rabatt\n",
    "monthly_usage Benutzungshäufigkeit (Hoch = viel)\n",
    "ad_spend Kunde zahlt für Produkt\n",
    "bugs_reported Anzahl Fehler gemeldet\n",
    "did_renew Abo erneuert Ja Nein\n",
    "\"\"\""
   ]
  },
  {
   "cell_type": "code",
   "execution_count": 6,
   "id": "b42f0b1d-96b4-41bb-bb11-aa97ef565fbd",
   "metadata": {},
   "outputs": [
    {
     "data": {
      "application/vnd.jupyter.widget-view+json": {
       "model_id": "afab5b850f5f47b294cbb7e7ac2685a1",
       "version_major": 2,
       "version_minor": 0
      },
      "text/plain": [
       "                                             |                                             | [  0%]   00:00 ->…"
      ]
     },
     "metadata": {},
     "output_type": "display_data"
    },
    {
     "name": "stdout",
     "output_type": "stream",
     "text": [
      "Report reports\\research_dataset.html was generated! NOTEBOOK/COLAB USERS: the web browser MAY not pop up, regardless, the report IS saved in your notebook/colab files.\n"
     ]
    }
   ],
   "source": [
    "if CREATEREPORT:\n",
    "    report = sw.analyze(dfData)\n",
    "    report.show_html(FILENAMEDATAREPORT)"
   ]
  },
  {
   "cell_type": "code",
   "execution_count": 7,
   "id": "f46ff144-ef2f-4978-b9ac-810998446f08",
   "metadata": {},
   "outputs": [
    {
     "data": {
      "text/html": [
       "<div>\n",
       "<style scoped>\n",
       "    .dataframe tbody tr th:only-of-type {\n",
       "        vertical-align: middle;\n",
       "    }\n",
       "\n",
       "    .dataframe tbody tr th {\n",
       "        vertical-align: top;\n",
       "    }\n",
       "\n",
       "    .dataframe thead th {\n",
       "        text-align: right;\n",
       "    }\n",
       "</style>\n",
       "<table border=\"1\" class=\"dataframe\">\n",
       "  <thead>\n",
       "    <tr style=\"text-align: right;\">\n",
       "      <th></th>\n",
       "      <th>sales_calls</th>\n",
       "      <th>interactions</th>\n",
       "      <th>economy</th>\n",
       "      <th>last_upgrade</th>\n",
       "      <th>discount</th>\n",
       "      <th>monthly_usage</th>\n",
       "      <th>ad_spend</th>\n",
       "      <th>bugs_reported</th>\n",
       "      <th>did_renew</th>\n",
       "    </tr>\n",
       "  </thead>\n",
       "  <tbody>\n",
       "    <tr>\n",
       "      <th>sales_calls</th>\n",
       "      <td>1.000000</td>\n",
       "      <td>0.936914</td>\n",
       "      <td>-0.000088</td>\n",
       "      <td>0.003571</td>\n",
       "      <td>-0.063689</td>\n",
       "      <td>0.014858</td>\n",
       "      <td>-0.004989</td>\n",
       "      <td>0.049046</td>\n",
       "      <td>0.092794</td>\n",
       "    </tr>\n",
       "    <tr>\n",
       "      <th>interactions</th>\n",
       "      <td>0.936914</td>\n",
       "      <td>1.000000</td>\n",
       "      <td>0.002126</td>\n",
       "      <td>0.007399</td>\n",
       "      <td>-0.053593</td>\n",
       "      <td>0.016725</td>\n",
       "      <td>-0.005694</td>\n",
       "      <td>0.041346</td>\n",
       "      <td>0.092897</td>\n",
       "    </tr>\n",
       "    <tr>\n",
       "      <th>economy</th>\n",
       "      <td>-0.000088</td>\n",
       "      <td>0.002126</td>\n",
       "      <td>1.000000</td>\n",
       "      <td>0.005528</td>\n",
       "      <td>0.015662</td>\n",
       "      <td>-0.005152</td>\n",
       "      <td>-0.000166</td>\n",
       "      <td>-0.005529</td>\n",
       "      <td>0.069970</td>\n",
       "    </tr>\n",
       "    <tr>\n",
       "      <th>last_upgrade</th>\n",
       "      <td>0.003571</td>\n",
       "      <td>0.007399</td>\n",
       "      <td>0.005528</td>\n",
       "      <td>1.000000</td>\n",
       "      <td>0.006593</td>\n",
       "      <td>0.002809</td>\n",
       "      <td>-0.447808</td>\n",
       "      <td>0.013685</td>\n",
       "      <td>-0.111749</td>\n",
       "    </tr>\n",
       "    <tr>\n",
       "      <th>discount</th>\n",
       "      <td>-0.063689</td>\n",
       "      <td>-0.053593</td>\n",
       "      <td>0.015662</td>\n",
       "      <td>0.006593</td>\n",
       "      <td>1.000000</td>\n",
       "      <td>-0.155299</td>\n",
       "      <td>-0.065024</td>\n",
       "      <td>-0.256914</td>\n",
       "      <td>-0.252809</td>\n",
       "    </tr>\n",
       "    <tr>\n",
       "      <th>monthly_usage</th>\n",
       "      <td>0.014858</td>\n",
       "      <td>0.016725</td>\n",
       "      <td>-0.005152</td>\n",
       "      <td>0.002809</td>\n",
       "      <td>-0.155299</td>\n",
       "      <td>1.000000</td>\n",
       "      <td>0.399607</td>\n",
       "      <td>0.407401</td>\n",
       "      <td>0.151535</td>\n",
       "    </tr>\n",
       "    <tr>\n",
       "      <th>ad_spend</th>\n",
       "      <td>-0.004989</td>\n",
       "      <td>-0.005694</td>\n",
       "      <td>-0.000166</td>\n",
       "      <td>-0.447808</td>\n",
       "      <td>-0.065024</td>\n",
       "      <td>0.399607</td>\n",
       "      <td>1.000000</td>\n",
       "      <td>0.159420</td>\n",
       "      <td>0.200403</td>\n",
       "    </tr>\n",
       "    <tr>\n",
       "      <th>bugs_reported</th>\n",
       "      <td>0.049046</td>\n",
       "      <td>0.041346</td>\n",
       "      <td>-0.005529</td>\n",
       "      <td>0.013685</td>\n",
       "      <td>-0.256914</td>\n",
       "      <td>0.407401</td>\n",
       "      <td>0.159420</td>\n",
       "      <td>1.000000</td>\n",
       "      <td>0.187882</td>\n",
       "    </tr>\n",
       "    <tr>\n",
       "      <th>did_renew</th>\n",
       "      <td>0.092794</td>\n",
       "      <td>0.092897</td>\n",
       "      <td>0.069970</td>\n",
       "      <td>-0.111749</td>\n",
       "      <td>-0.252809</td>\n",
       "      <td>0.151535</td>\n",
       "      <td>0.200403</td>\n",
       "      <td>0.187882</td>\n",
       "      <td>1.000000</td>\n",
       "    </tr>\n",
       "  </tbody>\n",
       "</table>\n",
       "</div>"
      ],
      "text/plain": [
       "               sales_calls  interactions   economy  last_upgrade  discount  \\\n",
       "sales_calls       1.000000      0.936914 -0.000088      0.003571 -0.063689   \n",
       "interactions      0.936914      1.000000  0.002126      0.007399 -0.053593   \n",
       "economy          -0.000088      0.002126  1.000000      0.005528  0.015662   \n",
       "last_upgrade      0.003571      0.007399  0.005528      1.000000  0.006593   \n",
       "discount         -0.063689     -0.053593  0.015662      0.006593  1.000000   \n",
       "monthly_usage     0.014858      0.016725 -0.005152      0.002809 -0.155299   \n",
       "ad_spend         -0.004989     -0.005694 -0.000166     -0.447808 -0.065024   \n",
       "bugs_reported     0.049046      0.041346 -0.005529      0.013685 -0.256914   \n",
       "did_renew         0.092794      0.092897  0.069970     -0.111749 -0.252809   \n",
       "\n",
       "               monthly_usage  ad_spend  bugs_reported  did_renew  \n",
       "sales_calls         0.014858 -0.004989       0.049046   0.092794  \n",
       "interactions        0.016725 -0.005694       0.041346   0.092897  \n",
       "economy            -0.005152 -0.000166      -0.005529   0.069970  \n",
       "last_upgrade        0.002809 -0.447808       0.013685  -0.111749  \n",
       "discount           -0.155299 -0.065024      -0.256914  -0.252809  \n",
       "monthly_usage       1.000000  0.399607       0.407401   0.151535  \n",
       "ad_spend            0.399607  1.000000       0.159420   0.200403  \n",
       "bugs_reported       0.407401  0.159420       1.000000   0.187882  \n",
       "did_renew           0.151535  0.200403       0.187882   1.000000  "
      ]
     },
     "execution_count": 7,
     "metadata": {},
     "output_type": "execute_result"
    }
   ],
   "source": [
    "dfData.corr()"
   ]
  },
  {
   "cell_type": "code",
   "execution_count": 13,
   "id": "0b890f34-7704-4594-9521-7612c8ef097b",
   "metadata": {},
   "outputs": [
    {
     "data": {
      "text/plain": [
       "interactions\n",
       "2.0    2544\n",
       "3.0    2419\n",
       "1.0    2229\n",
       "4.0    1500\n",
       "0.0    1038\n",
       "5.0     250\n",
       "6.0      16\n",
       "7.0       4\n",
       "Name: count, dtype: int64"
      ]
     },
     "execution_count": 13,
     "metadata": {},
     "output_type": "execute_result"
    }
   ],
   "source": [
    "dfData[\"interactions\"].value_counts()"
   ]
  },
  {
   "cell_type": "code",
   "execution_count": 14,
   "id": "a38c2b32-588c-4b0a-967a-1204b339c71d",
   "metadata": {},
   "outputs": [
    {
     "data": {
      "text/plain": [
       "0.23892100192678228"
      ]
     },
     "execution_count": 14,
     "metadata": {},
     "output_type": "execute_result"
    }
   ],
   "source": [
    "rowSel = dfData[\"interactions\"] == 0\n",
    "dfData.loc[rowSel, \"did_renew\"].mean()"
   ]
  },
  {
   "cell_type": "code",
   "execution_count": 15,
   "id": "835dbf29-9c14-495f-adcf-fe086c81f90f",
   "metadata": {},
   "outputs": [
    {
     "data": {
      "text/plain": [
       "0.31209551439410843"
      ]
     },
     "execution_count": 15,
     "metadata": {},
     "output_type": "execute_result"
    }
   ],
   "source": [
    "dfData.loc[~rowSel, \"did_renew\"].mean()"
   ]
  },
  {
   "cell_type": "code",
   "execution_count": 8,
   "id": "b83acde8-0808-47fa-b939-5c8843f479d2",
   "metadata": {},
   "outputs": [
    {
     "data": {
      "text/plain": [
       "'sales_calls+interactions+economy+last_upgrade+discount+monthly_usage+ad_spend+bugs_reported+did_renew'"
      ]
     },
     "execution_count": 8,
     "metadata": {},
     "output_type": "execute_result"
    }
   ],
   "source": [
    "\"+\".join(dfData.columns)"
   ]
  },
  {
   "cell_type": "code",
   "execution_count": 31,
   "id": "4e1186c3-168e-47c2-9e73-b18b135c26a1",
   "metadata": {},
   "outputs": [
    {
     "name": "stdout",
     "output_type": "stream",
     "text": [
      "Optimization terminated successfully.\n",
      "         Current function value: 0.551423\n",
      "         Iterations 6\n",
      "                           Logit Regression Results                           \n",
      "==============================================================================\n",
      "Dep. Variable:              did_renew   No. Observations:                10000\n",
      "Model:                          Logit   Df Residuals:                     9992\n",
      "Method:                           MLE   Df Model:                            7\n",
      "Date:                Fri, 22 Nov 2024   Pseudo R-squ.:                  0.1028\n",
      "Time:                        15:30:15   Log-Likelihood:                -5514.2\n",
      "converged:                       True   LL-Null:                       -6146.3\n",
      "Covariance Type:            nonrobust   LLR p-value:                9.565e-269\n",
      "=================================================================================\n",
      "                    coef    std err          z      P>|z|      [0.025      0.975]\n",
      "---------------------------------------------------------------------------------\n",
      "Intercept        -0.6821      0.119     -5.712      0.000      -0.916      -0.448\n",
      "interactions      0.1491      0.018      8.331      0.000       0.114       0.184\n",
      "economy           0.6288      0.081      7.790      0.000       0.471       0.787\n",
      "last_upgrade     -0.0225      0.005     -4.802      0.000      -0.032      -0.013\n",
      "discount         -5.8420      0.278    -20.980      0.000      -6.388      -5.296\n",
      "monthly_usage     0.3639      0.130      2.809      0.005       0.110       0.618\n",
      "ad_spend          0.5935      0.055     10.862      0.000       0.486       0.701\n",
      "bugs_reported     0.2742      0.031      8.802      0.000       0.213       0.335\n",
      "=================================================================================\n"
     ]
    }
   ],
   "source": [
    "m = smf.logit(formula = \"did_renew ~  interactions+economy+last_upgrade+discount+monthly_usage+ad_spend+bugs_reported\", data = dfData).fit()\n",
    "print(m.summary())"
   ]
  },
  {
   "cell_type": "code",
   "execution_count": 10,
   "id": "f4c1292b-9463-4ceb-8f24-7d6a8402532e",
   "metadata": {},
   "outputs": [
    {
     "name": "stdout",
     "output_type": "stream",
     "text": [
      "Optimization terminated successfully.\n",
      "         Current function value: 0.580582\n",
      "         Iterations 5\n",
      "                           Logit Regression Results                           \n",
      "==============================================================================\n",
      "Dep. Variable:              did_renew   No. Observations:                10000\n",
      "Model:                          Logit   Df Residuals:                     9994\n",
      "Method:                           MLE   Df Model:                            5\n",
      "Date:                Fri, 22 Nov 2024   Pseudo R-squ.:                 0.05539\n",
      "Time:                        13:55:54   Log-Likelihood:                -5805.8\n",
      "converged:                       True   LL-Null:                       -6146.3\n",
      "Covariance Type:            nonrobust   LLR p-value:                6.479e-145\n",
      "=================================================================================\n",
      "                    coef    std err          z      P>|z|      [0.025      0.975]\n",
      "---------------------------------------------------------------------------------\n",
      "Intercept        -1.7886      0.091    -19.639      0.000      -1.967      -1.610\n",
      "interactions      0.1529      0.017      8.837      0.000       0.119       0.187\n",
      "economy           0.5733      0.078      7.331      0.000       0.420       0.727\n",
      "last_upgrade     -0.0467      0.004    -11.785      0.000      -0.054      -0.039\n",
      "monthly_usage     0.9997      0.116      8.597      0.000       0.772       1.228\n",
      "bugs_reported     0.3983      0.030     13.244      0.000       0.339       0.457\n",
      "=================================================================================\n"
     ]
    }
   ],
   "source": [
    "m = smf.logit(formula = \"did_renew ~ interactions+economy+last_upgrade+monthly_usage+bugs_reported\", data = dfData).fit()\n",
    "print(m.summary())"
   ]
  },
  {
   "cell_type": "code",
   "execution_count": 11,
   "id": "d8e08526-d196-41fc-8e4c-56e34490508e",
   "metadata": {},
   "outputs": [
    {
     "name": "stdout",
     "output_type": "stream",
     "text": [
      "Optimization terminated successfully.\n",
      "         Current function value: 0.564614\n",
      "         Iterations 6\n",
      "                           Logit Regression Results                           \n",
      "==============================================================================\n",
      "Dep. Variable:              did_renew   No. Observations:                10000\n",
      "Model:                          Logit   Df Residuals:                     9997\n",
      "Method:                           MLE   Df Model:                            2\n",
      "Date:                Fri, 22 Nov 2024   Pseudo R-squ.:                 0.08137\n",
      "Time:                        13:58:28   Log-Likelihood:                -5646.1\n",
      "converged:                       True   LL-Null:                       -6146.3\n",
      "Covariance Type:            nonrobust   LLR p-value:                6.147e-218\n",
      "==============================================================================\n",
      "                 coef    std err          z      P>|z|      [0.025      0.975]\n",
      "------------------------------------------------------------------------------\n",
      "Intercept      0.1284      0.068      1.874      0.061      -0.006       0.263\n",
      "discount      -6.4390      0.268    -23.984      0.000      -6.965      -5.913\n",
      "ad_spend       0.7954      0.044     18.100      0.000       0.709       0.882\n",
      "==============================================================================\n"
     ]
    }
   ],
   "source": [
    "m = smf.logit(formula = \"did_renew ~ discount + ad_spend\", data = dfData).fit()\n",
    "print(m.summary())"
   ]
  },
  {
   "cell_type": "code",
   "execution_count": 21,
   "id": "5471e818-331b-4d3d-a3a1-706f68e5ea6f",
   "metadata": {},
   "outputs": [
    {
     "name": "stderr",
     "output_type": "stream",
     "text": [
      "C:\\Users\\danie\\AppData\\Roaming\\Python\\Python311\\site-packages\\seaborn\\_oldcore.py:1119: FutureWarning: use_inf_as_na option is deprecated and will be removed in a future version. Convert inf values to NaN before operating instead.\n",
      "  with pd.option_context('mode.use_inf_as_na', True):\n",
      "C:\\Users\\danie\\AppData\\Roaming\\Python\\Python311\\site-packages\\seaborn\\_oldcore.py:1119: FutureWarning: use_inf_as_na option is deprecated and will be removed in a future version. Convert inf values to NaN before operating instead.\n",
      "  with pd.option_context('mode.use_inf_as_na', True):\n",
      "C:\\Users\\danie\\AppData\\Roaming\\Python\\Python311\\site-packages\\seaborn\\_oldcore.py:1119: FutureWarning: use_inf_as_na option is deprecated and will be removed in a future version. Convert inf values to NaN before operating instead.\n",
      "  with pd.option_context('mode.use_inf_as_na', True):\n"
     ]
    },
    {
     "data": {
      "text/plain": [
       "<Axes: xlabel='ad_spend', ylabel='Count'>"
      ]
     },
     "execution_count": 21,
     "metadata": {},
     "output_type": "execute_result"
    },
    {
     "data": {
      "image/png": "[encoded data removed]",
      "text/plain": [
       "<Figure size 1500x500 with 3 Axes>"
      ]
     },
     "metadata": {},
     "output_type": "display_data"
    }
   ],
   "source": [
    "fig, ax = plt.subplots(1, 3, figsize = (15, 5))\n",
    "\n",
    "sns.histplot(dfData[\"discount\"], ax = ax[0])\n",
    "sns.histplot(dfData[\"sales_calls\"], ax = ax[1])\n",
    "sns.histplot(dfData[\"ad_spend\"], ax = ax[2])"
   ]
  },
  {
   "cell_type": "code",
   "execution_count": 22,
   "id": "3e49daaf-7c91-4e23-8cd8-592c6e7648f5",
   "metadata": {},
   "outputs": [
    {
     "data": {
      "text/html": [
       "<div>\n",
       "<style scoped>\n",
       "    .dataframe tbody tr th:only-of-type {\n",
       "        vertical-align: middle;\n",
       "    }\n",
       "\n",
       "    .dataframe tbody tr th {\n",
       "        vertical-align: top;\n",
       "    }\n",
       "\n",
       "    .dataframe thead th {\n",
       "        text-align: right;\n",
       "    }\n",
       "</style>\n",
       "<table border=\"1\" class=\"dataframe\">\n",
       "  <thead>\n",
       "    <tr style=\"text-align: right;\">\n",
       "      <th>interactions</th>\n",
       "      <th>0.0</th>\n",
       "      <th>1.0</th>\n",
       "      <th>2.0</th>\n",
       "      <th>3.0</th>\n",
       "      <th>4.0</th>\n",
       "      <th>5.0</th>\n",
       "      <th>6.0</th>\n",
       "      <th>7.0</th>\n",
       "    </tr>\n",
       "    <tr>\n",
       "      <th>sales_calls</th>\n",
       "      <th></th>\n",
       "      <th></th>\n",
       "      <th></th>\n",
       "      <th></th>\n",
       "      <th></th>\n",
       "      <th></th>\n",
       "      <th></th>\n",
       "      <th></th>\n",
       "    </tr>\n",
       "  </thead>\n",
       "  <tbody>\n",
       "    <tr>\n",
       "      <th>0.0</th>\n",
       "      <td>1038</td>\n",
       "      <td>231</td>\n",
       "      <td>23</td>\n",
       "      <td>1</td>\n",
       "      <td>0</td>\n",
       "      <td>0</td>\n",
       "      <td>0</td>\n",
       "      <td>0</td>\n",
       "    </tr>\n",
       "    <tr>\n",
       "      <th>1.0</th>\n",
       "      <td>0</td>\n",
       "      <td>1998</td>\n",
       "      <td>432</td>\n",
       "      <td>41</td>\n",
       "      <td>7</td>\n",
       "      <td>0</td>\n",
       "      <td>0</td>\n",
       "      <td>0</td>\n",
       "    </tr>\n",
       "    <tr>\n",
       "      <th>2.0</th>\n",
       "      <td>0</td>\n",
       "      <td>0</td>\n",
       "      <td>2089</td>\n",
       "      <td>411</td>\n",
       "      <td>39</td>\n",
       "      <td>4</td>\n",
       "      <td>0</td>\n",
       "      <td>0</td>\n",
       "    </tr>\n",
       "    <tr>\n",
       "      <th>3.0</th>\n",
       "      <td>0</td>\n",
       "      <td>0</td>\n",
       "      <td>0</td>\n",
       "      <td>1966</td>\n",
       "      <td>412</td>\n",
       "      <td>50</td>\n",
       "      <td>0</td>\n",
       "      <td>1</td>\n",
       "    </tr>\n",
       "    <tr>\n",
       "      <th>4.0</th>\n",
       "      <td>0</td>\n",
       "      <td>0</td>\n",
       "      <td>0</td>\n",
       "      <td>0</td>\n",
       "      <td>1042</td>\n",
       "      <td>196</td>\n",
       "      <td>16</td>\n",
       "      <td>3</td>\n",
       "    </tr>\n",
       "  </tbody>\n",
       "</table>\n",
       "</div>"
      ],
      "text/plain": [
       "interactions   0.0   1.0   2.0   3.0   4.0  5.0  6.0  7.0\n",
       "sales_calls                                              \n",
       "0.0           1038   231    23     1     0    0    0    0\n",
       "1.0              0  1998   432    41     7    0    0    0\n",
       "2.0              0     0  2089   411    39    4    0    0\n",
       "3.0              0     0     0  1966   412   50    0    1\n",
       "4.0              0     0     0     0  1042  196   16    3"
      ]
     },
     "execution_count": 22,
     "metadata": {},
     "output_type": "execute_result"
    }
   ],
   "source": [
    "pd.crosstab(dfData[\"sales_calls\"], dfData[\"interactions\"])"
   ]
  },
  {
   "cell_type": "code",
   "execution_count": 28,
   "id": "29705512-3336-4654-a74e-6e46a1af4579",
   "metadata": {},
   "outputs": [
    {
     "data": {
      "text/html": [
       "<div>\n",
       "<style scoped>\n",
       "    .dataframe tbody tr th:only-of-type {\n",
       "        vertical-align: middle;\n",
       "    }\n",
       "\n",
       "    .dataframe tbody tr th {\n",
       "        vertical-align: top;\n",
       "    }\n",
       "\n",
       "    .dataframe thead th {\n",
       "        text-align: right;\n",
       "    }\n",
       "</style>\n",
       "<table border=\"1\" class=\"dataframe\">\n",
       "  <thead>\n",
       "    <tr style=\"text-align: right;\">\n",
       "      <th>did_renew</th>\n",
       "      <th>0</th>\n",
       "      <th>1</th>\n",
       "    </tr>\n",
       "    <tr>\n",
       "      <th>sales_calls</th>\n",
       "      <th></th>\n",
       "      <th></th>\n",
       "    </tr>\n",
       "  </thead>\n",
       "  <tbody>\n",
       "    <tr>\n",
       "      <th>0.0</th>\n",
       "      <td>0.0984</td>\n",
       "      <td>0.0309</td>\n",
       "    </tr>\n",
       "    <tr>\n",
       "      <th>1.0</th>\n",
       "      <td>0.1821</td>\n",
       "      <td>0.0657</td>\n",
       "    </tr>\n",
       "    <tr>\n",
       "      <th>2.0</th>\n",
       "      <td>0.1756</td>\n",
       "      <td>0.0787</td>\n",
       "    </tr>\n",
       "    <tr>\n",
       "      <th>3.0</th>\n",
       "      <td>0.1608</td>\n",
       "      <td>0.0821</td>\n",
       "    </tr>\n",
       "    <tr>\n",
       "      <th>4.0</th>\n",
       "      <td>0.0786</td>\n",
       "      <td>0.0471</td>\n",
       "    </tr>\n",
       "  </tbody>\n",
       "</table>\n",
       "</div>"
      ],
      "text/plain": [
       "did_renew         0       1\n",
       "sales_calls                \n",
       "0.0          0.0984  0.0309\n",
       "1.0          0.1821  0.0657\n",
       "2.0          0.1756  0.0787\n",
       "3.0          0.1608  0.0821\n",
       "4.0          0.0786  0.0471"
      ]
     },
     "execution_count": 28,
     "metadata": {},
     "output_type": "execute_result"
    }
   ],
   "source": [
    "pd.crosstab(dfData[\"did_renew\"], dfData[\"sales_calls\"], normalize = True).T"
   ]
  },
  {
   "cell_type": "code",
   "execution_count": 25,
   "id": "b2c47f69-afe4-4de0-92ef-f27882943646",
   "metadata": {},
   "outputs": [
    {
     "data": {
      "text/html": [
       "<div>\n",
       "<style scoped>\n",
       "    .dataframe tbody tr th:only-of-type {\n",
       "        vertical-align: middle;\n",
       "    }\n",
       "\n",
       "    .dataframe tbody tr th {\n",
       "        vertical-align: top;\n",
       "    }\n",
       "\n",
       "    .dataframe thead th {\n",
       "        text-align: right;\n",
       "    }\n",
       "</style>\n",
       "<table border=\"1\" class=\"dataframe\">\n",
       "  <thead>\n",
       "    <tr style=\"text-align: right;\">\n",
       "      <th></th>\n",
       "      <th>did_renew</th>\n",
       "    </tr>\n",
       "    <tr>\n",
       "      <th>sales_calls</th>\n",
       "      <th></th>\n",
       "    </tr>\n",
       "  </thead>\n",
       "  <tbody>\n",
       "    <tr>\n",
       "      <th>0.0</th>\n",
       "      <td>0.238979</td>\n",
       "    </tr>\n",
       "    <tr>\n",
       "      <th>1.0</th>\n",
       "      <td>0.265133</td>\n",
       "    </tr>\n",
       "    <tr>\n",
       "      <th>2.0</th>\n",
       "      <td>0.309477</td>\n",
       "    </tr>\n",
       "    <tr>\n",
       "      <th>3.0</th>\n",
       "      <td>0.337999</td>\n",
       "    </tr>\n",
       "    <tr>\n",
       "      <th>4.0</th>\n",
       "      <td>0.374702</td>\n",
       "    </tr>\n",
       "  </tbody>\n",
       "</table>\n",
       "</div>"
      ],
      "text/plain": [
       "             did_renew\n",
       "sales_calls           \n",
       "0.0           0.238979\n",
       "1.0           0.265133\n",
       "2.0           0.309477\n",
       "3.0           0.337999\n",
       "4.0           0.374702"
      ]
     },
     "execution_count": 25,
     "metadata": {},
     "output_type": "execute_result"
    }
   ],
   "source": [
    "pd.pivot_table(\n",
    "    data = dfData,\n",
    "    index = \"sales_calls\",\n",
    "    values = \"did_renew\",\n",
    "    aggfunc = \"mean\"\n",
    ")"
   ]
  },
  {
   "cell_type": "code",
   "execution_count": 29,
   "id": "a7e12827-a18a-427d-b5ef-44f3ffe9351c",
   "metadata": {},
   "outputs": [
    {
     "data": {
      "text/html": [
       "<div>\n",
       "<style scoped>\n",
       "    .dataframe tbody tr th:only-of-type {\n",
       "        vertical-align: middle;\n",
       "    }\n",
       "\n",
       "    .dataframe tbody tr th {\n",
       "        vertical-align: top;\n",
       "    }\n",
       "\n",
       "    .dataframe thead th {\n",
       "        text-align: right;\n",
       "    }\n",
       "</style>\n",
       "<table border=\"1\" class=\"dataframe\">\n",
       "  <thead>\n",
       "    <tr style=\"text-align: right;\">\n",
       "      <th></th>\n",
       "      <th>discount</th>\n",
       "    </tr>\n",
       "    <tr>\n",
       "      <th>sales_calls</th>\n",
       "      <th></th>\n",
       "    </tr>\n",
       "  </thead>\n",
       "  <tbody>\n",
       "    <tr>\n",
       "      <th>0.0</th>\n",
       "      <td>0.247799</td>\n",
       "    </tr>\n",
       "    <tr>\n",
       "      <th>1.0</th>\n",
       "      <td>0.244305</td>\n",
       "    </tr>\n",
       "    <tr>\n",
       "      <th>2.0</th>\n",
       "      <td>0.237554</td>\n",
       "    </tr>\n",
       "    <tr>\n",
       "      <th>3.0</th>\n",
       "      <td>0.234697</td>\n",
       "    </tr>\n",
       "    <tr>\n",
       "      <th>4.0</th>\n",
       "      <td>0.229332</td>\n",
       "    </tr>\n",
       "  </tbody>\n",
       "</table>\n",
       "</div>"
      ],
      "text/plain": [
       "             discount\n",
       "sales_calls          \n",
       "0.0          0.247799\n",
       "1.0          0.244305\n",
       "2.0          0.237554\n",
       "3.0          0.234697\n",
       "4.0          0.229332"
      ]
     },
     "execution_count": 29,
     "metadata": {},
     "output_type": "execute_result"
    }
   ],
   "source": [
    "pd.pivot_table(\n",
    "    data = dfData,\n",
    "    index = \"sales_calls\",\n",
    "    values = \"discount\",\n",
    "    aggfunc = \"mean\"\n",
    ")"
   ]
  }
 ],
 "metadata": {
  "kernelspec": {
   "display_name": "Python 3 (ipykernel)",
   "language": "python",
   "name": "python3"
  },
  "language_info": {
   "codemirror_mode": {
    "name": "ipython",
    "version": 3
   },
   "file_extension": ".py",
   "mimetype": "text/x-python",
   "name": "python",
   "nbconvert_exporter": "python",
   "pygments_lexer": "ipython3",
   "version": "3.11.7"
  }
 },
 "nbformat": 4,
 "nbformat_minor": 5
}
